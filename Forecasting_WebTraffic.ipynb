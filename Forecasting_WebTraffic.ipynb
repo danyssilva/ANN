{
  "nbformat": 4,
  "nbformat_minor": 0,
  "metadata": {
    "colab": {
      "provenance": [],
      "authorship_tag": "ABX9TyMgJFcMatsZFlHmisBRi1NW",
      "include_colab_link": true
    },
    "kernelspec": {
      "name": "python3",
      "display_name": "Python 3"
    },
    "language_info": {
      "name": "python"
    }
  },
  "cells": [
    {
      "cell_type": "markdown",
      "metadata": {
        "id": "view-in-github",
        "colab_type": "text"
      },
      "source": [
        "<a href=\"https://colab.research.google.com/github/danyssilva/ANN/blob/main/Forecasting_WebTraffic.ipynb\" target=\"_parent\"><img src=\"https://colab.research.google.com/assets/colab-badge.svg\" alt=\"Open In Colab\"/></a>"
      ]
    },
    {
      "cell_type": "markdown",
      "source": [
        "# Tarefa 3:\n",
        "\n",
        "Use as técnicas de forecasting apresentadas na aula em alguma base de dados diferente da apresentada na aula.\n",
        "\n",
        "Lembre-se de usar uma técnica ingênua (Naïve) como baseline.\n",
        "\n",
        "Explique a base que foi usada com poucas palavras. Justifique os parâmetros usados para gerar o dataset a partir do array.**negrito**"
      ],
      "metadata": {
        "id": "3zgNfWBNGHVn"
      }
    },
    {
      "cell_type": "markdown",
      "source": [
        "### Base de Dados:"
      ],
      "metadata": {
        "id": "kRakkCHZvpfZ"
      }
    },
    {
      "cell_type": "markdown",
      "source": [
        "Para desenvolver este trabalho foi utilizado o arquivo preprocessado da competição do Kaggle \"Web Traffic Time Series Forecasting\" que pode ser encontrada no link:\n",
        "\n",
        "https://www.kaggle.com/datasets/theinkyawlwin/wikipedia/data"
      ],
      "metadata": {
        "id": "U7IpZ9NdvGTw"
      }
    },
    {
      "cell_type": "code",
      "execution_count": 1,
      "metadata": {
        "id": "XelfaaqT0suE",
        "colab": {
          "base_uri": "https://localhost:8080/",
          "height": 36
        },
        "outputId": "deacea53-09b8-4dd9-c987-8a849d4bb9be"
      },
      "outputs": [
        {
          "output_type": "execute_result",
          "data": {
            "text/plain": [
              "'/kaggle/input/wikipedia'"
            ],
            "application/vnd.google.colaboratory.intrinsic+json": {
              "type": "string"
            }
          },
          "metadata": {},
          "execution_count": 1
        }
      ],
      "source": [
        "# Instalando dependêcias:\n",
        "import kagglehub\n",
        "import pandas as pd\n",
        "import numpy as np\n",
        "from kagglehub import KaggleDatasetAdapter\n",
        "\n",
        "kagglehub.dataset_download(\"theinkyawlwin/wikipedia\")"
      ]
    },
    {
      "cell_type": "code",
      "source": [
        "# Lendo aqruivo\n",
        "df3=pd.read_csv(r\"/kaggle/input/wikipedia/top_page_df.csv\")"
      ],
      "metadata": {
        "id": "4XwJIv1rqD87"
      },
      "execution_count": 2,
      "outputs": []
    },
    {
      "cell_type": "code",
      "source": [
        "print(len(df3))"
      ],
      "metadata": {
        "colab": {
          "base_uri": "https://localhost:8080/"
        },
        "id": "U0r3AmmZY8dd",
        "outputId": "97c735d4-cd0c-430e-f0bc-35ea80159f3d"
      },
      "execution_count": 3,
      "outputs": [
        {
          "output_type": "stream",
          "name": "stdout",
          "text": [
            "550\n"
          ]
        }
      ]
    },
    {
      "cell_type": "code",
      "source": [
        "# Extração da coluna 'Views' como um NumPy array\n",
        "visualizacoes = df3['Views'].values\n",
        "print(visualizacoes)\n",
        "\n",
        "# # Extraindo outras colunas\n",
        "raw_data = df3[['Date']].values\n",
        "print(raw_data)"
      ],
      "metadata": {
        "colab": {
          "base_uri": "https://localhost:8080/"
        },
        "collapsed": true,
        "id": "OcKtwtO1Xika",
        "outputId": "141fb5fb-edbe-4732-aa91-7abc4094b00d"
      },
      "execution_count": 5,
      "outputs": [
        {
          "output_type": "stream",
          "name": "stdout",
          "text": [
            "[20.38 20.75 19.57 20.44 20.77 22.54 21.21 19.11 19.99 20.2  19.7  20.23\n",
            " 20.52 19.7  19.56 19.66 18.99 18.36 18.83 20.34 19.74 19.54 19.62 18.64\n",
            " 19.32 20.4  20.16 19.89 27.56 18.5  17.93 18.18 19.41 18.95 20.53 20.25\n",
            " 20.06 19.12 19.44 19.71 19.85 18.37 19.39 19.19 19.45 19.31 19.68 20.31\n",
            " 20.08 18.9  19.09 18.9  18.8  19.89 20.21 18.56 18.09 17.86 17.29 17.84\n",
            " 18.2  20.55 18.08 18.42 17.85 17.48 17.9  19.   19.74 19.65 18.61 18.07\n",
            " 18.56 18.93 19.06 19.22 19.27 18.23 18.2  17.71 17.85 19.61 20.8  18.83\n",
            " 19.59 17.95 17.81 18.1  18.7  20.31 17.54 19.7  18.84 18.54 18.3  18.94\n",
            " 19.28 18.27 18.84 19.05 18.44 18.94 19.12 20.29 19.56 18.8  18.82 17.87\n",
            " 18.04 19.03 21.35 20.67 21.55 21.47 18.92 17.53 20.1  20.55 20.89 20.54\n",
            " 18.82 18.18 18.12 17.97 21.33 21.05 20.02 19.78 18.06 17.54 18.54 20.78\n",
            " 19.63 19.2  18.8  18.12 18.07 19.12 20.88 19.79 19.89 19.15 17.57 18.95\n",
            " 19.46 20.56 19.45 18.82 18.14 17.9  19.15 19.28 21.37 20.1  18.21 18.57\n",
            " 17.96 18.17 18.41 21.11 20.08 18.03 16.57 17.55 16.26 18.34 19.25 17.27\n",
            " 17.62 16.54 16.28 16.65 16.68 17.8  17.44 17.78 17.21 15.98 17.89 17.4\n",
            " 18.94 17.57 17.38 16.96 16.36 17.61 17.54 19.23 18.14 18.38 17.28 16.44\n",
            " 16.44 17.28 19.1  18.45 17.2  18.14 17.46 18.22 18.7  19.39 19.66 18.72\n",
            " 18.93 16.9  17.53 17.62 20.1  18.64 19.26 17.27 17.16 17.09 18.36 20.28\n",
            " 18.92 18.86 18.48 17.84 18.59 19.31 20.74 20.4  17.8  15.99 16.62 17.48\n",
            " 18.73 20.03 20.58 20.48 18.84 17.77 17.82 18.61 20.42 19.12 18.96 19.34\n",
            " 18.11 18.72 19.8  21.58 19.91 19.66 21.09 17.95 19.49 18.44 19.34 18.44\n",
            " 18.14 17.28 15.68 16.38 14.68 18.62 16.79 16.29 16.04 15.87 14.5  14.02\n",
            " 15.32 14.48 15.11 14.59 14.09 14.59 15.33 17.45 15.72 15.31 14.51 13.66\n",
            " 15.13 16.17 18.15 17.   17.03 16.82 16.18 17.17 17.37 19.21 18.44 17.13\n",
            " 17.17 16.61 17.18 17.53 20.15 18.55 17.68 15.7  15.58 16.67 17.78 20.18\n",
            " 17.81 17.62 17.92 16.02 17.19 18.2  19.71 19.15 18.69 16.77 16.41 17.23\n",
            " 17.88 19.26 18.92 18.15 18.43 16.81 18.16 19.18 21.1  18.96 17.96 17.64\n",
            " 16.16 17.89 15.63 19.55 18.48 18.78 17.9  16.35 18.1  19.   19.55 19.03\n",
            " 18.73 17.31 15.92 15.62 18.88 21.89 19.1  20.11 18.97 17.79 20.3  21.56\n",
            " 22.99 21.6  19.54 18.2  16.32 18.41 19.03 20.93 19.77 19.88 19.59 17.87\n",
            " 19.31 20.25 18.67 20.02 19.58 23.21 17.24 20.22 20.83 21.62 18.72 14.51\n",
            " 14.88 16.1  18.41 20.36 21.42 20.02 19.22 19.21 17.86 20.21 20.72 22.11\n",
            " 20.95 34.14 51.19 58.45 59.34 62.09 67.12 67.26 65.16 64.36 60.73 59.06\n",
            " 62.26 66.13 63.08 52.79 45.59 47.46 51.19 53.41 59.08 58.81 60.97 60.39\n",
            " 59.05 59.63 59.62 63.05 56.51 24.93 22.3  20.31 23.25 23.95 25.94 25.35\n",
            " 24.11 22.25 20.79 25.42 26.54 29.34 31.1  31.2  31.72 29.38 32.37 31.66\n",
            " 28.86 27.95 24.72 22.95 20.75 23.23 23.61 21.11 24.11 27.33 27.96 21.48\n",
            " 24.61 24.44 25.88 21.12 23.38 22.83 20.51 23.02 23.81 24.71 25.2  24.11\n",
            " 22.86 20.99 24.14 23.88 26.07 26.38 32.1  33.45 20.85 23.05 23.95 24.91\n",
            " 19.7  17.72 21.41 21.27 24.25 24.59 26.99 25.23 23.66 22.12 20.25 23.4\n",
            " 23.62 25.39 24.28 23.48 22.31 19.9  22.61 22.99 25.23 24.03 23.74 22.67\n",
            " 20.86 22.98 23.32 25.02 24.6  25.3  24.22 20.82 23.48 24.37 25.56 24.23\n",
            " 24.03 22.34 20.33 22.77 20.38 24.42 23.95 22.7  21.13 20.06 22.9  22.25\n",
            " 21.39 22.78 20.29 21.17 19.55 22.7  22.66 25.2  23.75 22.92 21.9  19.53\n",
            " 22.86 22.93 24.77 23.66 22.66 20.83 19.65 18.57 22.42 25.07 25.04 26.28\n",
            " 24.2  22.54 25.06 25.87 28.34 26.92 27.03 26.07 24.36 26.15]\n",
            "[['2015-07-01']\n",
            " ['2015-07-02']\n",
            " ['2015-07-03']\n",
            " ['2015-07-04']\n",
            " ['2015-07-05']\n",
            " ['2015-07-06']\n",
            " ['2015-07-07']\n",
            " ['2015-07-08']\n",
            " ['2015-07-09']\n",
            " ['2015-07-10']\n",
            " ['2015-07-11']\n",
            " ['2015-07-12']\n",
            " ['2015-07-13']\n",
            " ['2015-07-14']\n",
            " ['2015-07-15']\n",
            " ['2015-07-16']\n",
            " ['2015-07-17']\n",
            " ['2015-07-18']\n",
            " ['2015-07-19']\n",
            " ['2015-07-20']\n",
            " ['2015-07-21']\n",
            " ['2015-07-22']\n",
            " ['2015-07-23']\n",
            " ['2015-07-24']\n",
            " ['2015-07-25']\n",
            " ['2015-07-26']\n",
            " ['2015-07-27']\n",
            " ['2015-07-28']\n",
            " ['2015-07-29']\n",
            " ['2015-07-30']\n",
            " ['2015-07-31']\n",
            " ['2015-08-01']\n",
            " ['2015-08-02']\n",
            " ['2015-08-03']\n",
            " ['2015-08-04']\n",
            " ['2015-08-05']\n",
            " ['2015-08-06']\n",
            " ['2015-08-07']\n",
            " ['2015-08-08']\n",
            " ['2015-08-09']\n",
            " ['2015-08-10']\n",
            " ['2015-08-11']\n",
            " ['2015-08-12']\n",
            " ['2015-08-13']\n",
            " ['2015-08-14']\n",
            " ['2015-08-15']\n",
            " ['2015-08-16']\n",
            " ['2015-08-17']\n",
            " ['2015-08-18']\n",
            " ['2015-08-19']\n",
            " ['2015-08-20']\n",
            " ['2015-08-21']\n",
            " ['2015-08-22']\n",
            " ['2015-08-23']\n",
            " ['2015-08-24']\n",
            " ['2015-08-25']\n",
            " ['2015-08-26']\n",
            " ['2015-08-27']\n",
            " ['2015-08-28']\n",
            " ['2015-08-29']\n",
            " ['2015-08-30']\n",
            " ['2015-08-31']\n",
            " ['2015-09-01']\n",
            " ['2015-09-02']\n",
            " ['2015-09-03']\n",
            " ['2015-09-04']\n",
            " ['2015-09-05']\n",
            " ['2015-09-06']\n",
            " ['2015-09-07']\n",
            " ['2015-09-08']\n",
            " ['2015-09-09']\n",
            " ['2015-09-10']\n",
            " ['2015-09-11']\n",
            " ['2015-09-12']\n",
            " ['2015-09-13']\n",
            " ['2015-09-14']\n",
            " ['2015-09-15']\n",
            " ['2015-09-16']\n",
            " ['2015-09-17']\n",
            " ['2015-09-18']\n",
            " ['2015-09-19']\n",
            " ['2015-09-20']\n",
            " ['2015-09-21']\n",
            " ['2015-09-22']\n",
            " ['2015-09-23']\n",
            " ['2015-09-24']\n",
            " ['2015-09-25']\n",
            " ['2015-09-26']\n",
            " ['2015-09-27']\n",
            " ['2015-09-28']\n",
            " ['2015-09-29']\n",
            " ['2015-09-30']\n",
            " ['2015-10-01']\n",
            " ['2015-10-02']\n",
            " ['2015-10-03']\n",
            " ['2015-10-04']\n",
            " ['2015-10-05']\n",
            " ['2015-10-06']\n",
            " ['2015-10-07']\n",
            " ['2015-10-08']\n",
            " ['2015-10-09']\n",
            " ['2015-10-10']\n",
            " ['2015-10-11']\n",
            " ['2015-10-12']\n",
            " ['2015-10-13']\n",
            " ['2015-10-14']\n",
            " ['2015-10-15']\n",
            " ['2015-10-16']\n",
            " ['2015-10-17']\n",
            " ['2015-10-18']\n",
            " ['2015-10-19']\n",
            " ['2015-10-20']\n",
            " ['2015-10-21']\n",
            " ['2015-10-22']\n",
            " ['2015-10-23']\n",
            " ['2015-10-24']\n",
            " ['2015-10-25']\n",
            " ['2015-10-26']\n",
            " ['2015-10-27']\n",
            " ['2015-10-28']\n",
            " ['2015-10-29']\n",
            " ['2015-10-30']\n",
            " ['2015-10-31']\n",
            " ['2015-11-01']\n",
            " ['2015-11-02']\n",
            " ['2015-11-03']\n",
            " ['2015-11-04']\n",
            " ['2015-11-05']\n",
            " ['2015-11-06']\n",
            " ['2015-11-07']\n",
            " ['2015-11-08']\n",
            " ['2015-11-09']\n",
            " ['2015-11-10']\n",
            " ['2015-11-11']\n",
            " ['2015-11-12']\n",
            " ['2015-11-13']\n",
            " ['2015-11-14']\n",
            " ['2015-11-15']\n",
            " ['2015-11-16']\n",
            " ['2015-11-17']\n",
            " ['2015-11-18']\n",
            " ['2015-11-19']\n",
            " ['2015-11-20']\n",
            " ['2015-11-21']\n",
            " ['2015-11-22']\n",
            " ['2015-11-23']\n",
            " ['2015-11-24']\n",
            " ['2015-11-25']\n",
            " ['2015-11-26']\n",
            " ['2015-11-27']\n",
            " ['2015-11-28']\n",
            " ['2015-11-29']\n",
            " ['2015-11-30']\n",
            " ['2015-12-01']\n",
            " ['2015-12-02']\n",
            " ['2015-12-03']\n",
            " ['2015-12-04']\n",
            " ['2015-12-05']\n",
            " ['2015-12-06']\n",
            " ['2015-12-07']\n",
            " ['2015-12-08']\n",
            " ['2015-12-09']\n",
            " ['2015-12-10']\n",
            " ['2015-12-11']\n",
            " ['2015-12-12']\n",
            " ['2015-12-13']\n",
            " ['2015-12-14']\n",
            " ['2015-12-15']\n",
            " ['2015-12-16']\n",
            " ['2015-12-17']\n",
            " ['2015-12-18']\n",
            " ['2015-12-19']\n",
            " ['2015-12-20']\n",
            " ['2015-12-21']\n",
            " ['2015-12-22']\n",
            " ['2015-12-23']\n",
            " ['2015-12-24']\n",
            " ['2015-12-25']\n",
            " ['2015-12-26']\n",
            " ['2015-12-27']\n",
            " ['2015-12-28']\n",
            " ['2015-12-29']\n",
            " ['2015-12-30']\n",
            " ['2015-12-31']\n",
            " ['2016-01-01']\n",
            " ['2016-01-02']\n",
            " ['2016-01-03']\n",
            " ['2016-01-04']\n",
            " ['2016-01-05']\n",
            " ['2016-01-06']\n",
            " ['2016-01-07']\n",
            " ['2016-01-08']\n",
            " ['2016-01-09']\n",
            " ['2016-01-10']\n",
            " ['2016-01-11']\n",
            " ['2016-01-12']\n",
            " ['2016-01-13']\n",
            " ['2016-01-14']\n",
            " ['2016-01-15']\n",
            " ['2016-01-16']\n",
            " ['2016-01-17']\n",
            " ['2016-01-18']\n",
            " ['2016-01-19']\n",
            " ['2016-01-20']\n",
            " ['2016-01-21']\n",
            " ['2016-01-22']\n",
            " ['2016-01-23']\n",
            " ['2016-01-24']\n",
            " ['2016-01-25']\n",
            " ['2016-01-26']\n",
            " ['2016-01-27']\n",
            " ['2016-01-28']\n",
            " ['2016-01-29']\n",
            " ['2016-01-30']\n",
            " ['2016-01-31']\n",
            " ['2016-02-01']\n",
            " ['2016-02-02']\n",
            " ['2016-02-03']\n",
            " ['2016-02-04']\n",
            " ['2016-02-05']\n",
            " ['2016-02-06']\n",
            " ['2016-02-07']\n",
            " ['2016-02-08']\n",
            " ['2016-02-09']\n",
            " ['2016-02-10']\n",
            " ['2016-02-11']\n",
            " ['2016-02-12']\n",
            " ['2016-02-13']\n",
            " ['2016-02-14']\n",
            " ['2016-02-15']\n",
            " ['2016-02-16']\n",
            " ['2016-02-17']\n",
            " ['2016-02-18']\n",
            " ['2016-02-19']\n",
            " ['2016-02-20']\n",
            " ['2016-02-21']\n",
            " ['2016-02-22']\n",
            " ['2016-02-23']\n",
            " ['2016-02-24']\n",
            " ['2016-02-25']\n",
            " ['2016-02-26']\n",
            " ['2016-02-27']\n",
            " ['2016-02-28']\n",
            " ['2016-02-29']\n",
            " ['2016-03-01']\n",
            " ['2016-03-02']\n",
            " ['2016-03-03']\n",
            " ['2016-03-04']\n",
            " ['2016-03-05']\n",
            " ['2016-03-06']\n",
            " ['2016-03-07']\n",
            " ['2016-03-08']\n",
            " ['2016-03-09']\n",
            " ['2016-03-10']\n",
            " ['2016-03-11']\n",
            " ['2016-03-12']\n",
            " ['2016-03-13']\n",
            " ['2016-03-14']\n",
            " ['2016-03-15']\n",
            " ['2016-03-16']\n",
            " ['2016-03-17']\n",
            " ['2016-03-18']\n",
            " ['2016-03-19']\n",
            " ['2016-03-20']\n",
            " ['2016-03-21']\n",
            " ['2016-03-22']\n",
            " ['2016-03-23']\n",
            " ['2016-03-24']\n",
            " ['2016-03-25']\n",
            " ['2016-03-26']\n",
            " ['2016-03-27']\n",
            " ['2016-03-28']\n",
            " ['2016-03-29']\n",
            " ['2016-03-30']\n",
            " ['2016-03-31']\n",
            " ['2016-04-01']\n",
            " ['2016-04-02']\n",
            " ['2016-04-03']\n",
            " ['2016-04-04']\n",
            " ['2016-04-05']\n",
            " ['2016-04-06']\n",
            " ['2016-04-07']\n",
            " ['2016-04-08']\n",
            " ['2016-04-09']\n",
            " ['2016-04-10']\n",
            " ['2016-04-11']\n",
            " ['2016-04-12']\n",
            " ['2016-04-13']\n",
            " ['2016-04-14']\n",
            " ['2016-04-15']\n",
            " ['2016-04-16']\n",
            " ['2016-04-17']\n",
            " ['2016-04-18']\n",
            " ['2016-04-19']\n",
            " ['2016-04-20']\n",
            " ['2016-04-21']\n",
            " ['2016-04-22']\n",
            " ['2016-04-23']\n",
            " ['2016-04-24']\n",
            " ['2016-04-25']\n",
            " ['2016-04-26']\n",
            " ['2016-04-27']\n",
            " ['2016-04-28']\n",
            " ['2016-04-29']\n",
            " ['2016-04-30']\n",
            " ['2016-05-01']\n",
            " ['2016-05-02']\n",
            " ['2016-05-03']\n",
            " ['2016-05-04']\n",
            " ['2016-05-05']\n",
            " ['2016-05-06']\n",
            " ['2016-05-07']\n",
            " ['2016-05-08']\n",
            " ['2016-05-09']\n",
            " ['2016-05-10']\n",
            " ['2016-05-11']\n",
            " ['2016-05-12']\n",
            " ['2016-05-13']\n",
            " ['2016-05-14']\n",
            " ['2016-05-15']\n",
            " ['2016-05-16']\n",
            " ['2016-05-17']\n",
            " ['2016-05-18']\n",
            " ['2016-05-19']\n",
            " ['2016-05-20']\n",
            " ['2016-05-21']\n",
            " ['2016-05-22']\n",
            " ['2016-05-23']\n",
            " ['2016-05-24']\n",
            " ['2016-05-25']\n",
            " ['2016-05-26']\n",
            " ['2016-05-27']\n",
            " ['2016-05-28']\n",
            " ['2016-05-29']\n",
            " ['2016-05-30']\n",
            " ['2016-05-31']\n",
            " ['2016-06-01']\n",
            " ['2016-06-02']\n",
            " ['2016-06-03']\n",
            " ['2016-06-04']\n",
            " ['2016-06-05']\n",
            " ['2016-06-06']\n",
            " ['2016-06-07']\n",
            " ['2016-06-08']\n",
            " ['2016-06-09']\n",
            " ['2016-06-10']\n",
            " ['2016-06-11']\n",
            " ['2016-06-12']\n",
            " ['2016-06-13']\n",
            " ['2016-06-14']\n",
            " ['2016-06-15']\n",
            " ['2016-06-16']\n",
            " ['2016-06-17']\n",
            " ['2016-06-18']\n",
            " ['2016-06-19']\n",
            " ['2016-06-20']\n",
            " ['2016-06-21']\n",
            " ['2016-06-22']\n",
            " ['2016-06-23']\n",
            " ['2016-06-24']\n",
            " ['2016-06-25']\n",
            " ['2016-06-26']\n",
            " ['2016-06-27']\n",
            " ['2016-06-28']\n",
            " ['2016-06-29']\n",
            " ['2016-06-30']\n",
            " ['2016-07-01']\n",
            " ['2016-07-02']\n",
            " ['2016-07-03']\n",
            " ['2016-07-04']\n",
            " ['2016-07-05']\n",
            " ['2016-07-06']\n",
            " ['2016-07-07']\n",
            " ['2016-07-08']\n",
            " ['2016-07-09']\n",
            " ['2016-07-10']\n",
            " ['2016-07-11']\n",
            " ['2016-07-12']\n",
            " ['2016-07-13']\n",
            " ['2016-07-14']\n",
            " ['2016-07-15']\n",
            " ['2016-07-16']\n",
            " ['2016-07-17']\n",
            " ['2016-07-18']\n",
            " ['2016-07-19']\n",
            " ['2016-07-20']\n",
            " ['2016-07-21']\n",
            " ['2016-07-22']\n",
            " ['2016-07-23']\n",
            " ['2016-07-24']\n",
            " ['2016-07-25']\n",
            " ['2016-07-26']\n",
            " ['2016-07-27']\n",
            " ['2016-07-28']\n",
            " ['2016-07-29']\n",
            " ['2016-07-30']\n",
            " ['2016-07-31']\n",
            " ['2016-08-01']\n",
            " ['2016-08-02']\n",
            " ['2016-08-03']\n",
            " ['2016-08-04']\n",
            " ['2016-08-05']\n",
            " ['2016-08-06']\n",
            " ['2016-08-07']\n",
            " ['2016-08-08']\n",
            " ['2016-08-09']\n",
            " ['2016-08-10']\n",
            " ['2016-08-11']\n",
            " ['2016-08-12']\n",
            " ['2016-08-13']\n",
            " ['2016-08-14']\n",
            " ['2016-08-15']\n",
            " ['2016-08-16']\n",
            " ['2016-08-17']\n",
            " ['2016-08-18']\n",
            " ['2016-08-19']\n",
            " ['2016-08-20']\n",
            " ['2016-08-21']\n",
            " ['2016-08-22']\n",
            " ['2016-08-23']\n",
            " ['2016-08-24']\n",
            " ['2016-08-25']\n",
            " ['2016-08-26']\n",
            " ['2016-08-27']\n",
            " ['2016-08-28']\n",
            " ['2016-08-29']\n",
            " ['2016-08-30']\n",
            " ['2016-08-31']\n",
            " ['2016-09-01']\n",
            " ['2016-09-02']\n",
            " ['2016-09-03']\n",
            " ['2016-09-04']\n",
            " ['2016-09-05']\n",
            " ['2016-09-06']\n",
            " ['2016-09-07']\n",
            " ['2016-09-08']\n",
            " ['2016-09-09']\n",
            " ['2016-09-10']\n",
            " ['2016-09-11']\n",
            " ['2016-09-12']\n",
            " ['2016-09-13']\n",
            " ['2016-09-14']\n",
            " ['2016-09-15']\n",
            " ['2016-09-16']\n",
            " ['2016-09-17']\n",
            " ['2016-09-18']\n",
            " ['2016-09-19']\n",
            " ['2016-09-20']\n",
            " ['2016-09-21']\n",
            " ['2016-09-22']\n",
            " ['2016-09-23']\n",
            " ['2016-09-24']\n",
            " ['2016-09-25']\n",
            " ['2016-09-26']\n",
            " ['2016-09-27']\n",
            " ['2016-09-28']\n",
            " ['2016-09-29']\n",
            " ['2016-09-30']\n",
            " ['2016-10-01']\n",
            " ['2016-10-02']\n",
            " ['2016-10-03']\n",
            " ['2016-10-04']\n",
            " ['2016-10-05']\n",
            " ['2016-10-06']\n",
            " ['2016-10-07']\n",
            " ['2016-10-08']\n",
            " ['2016-10-09']\n",
            " ['2016-10-10']\n",
            " ['2016-10-11']\n",
            " ['2016-10-12']\n",
            " ['2016-10-13']\n",
            " ['2016-10-14']\n",
            " ['2016-10-15']\n",
            " ['2016-10-16']\n",
            " ['2016-10-17']\n",
            " ['2016-10-18']\n",
            " ['2016-10-19']\n",
            " ['2016-10-20']\n",
            " ['2016-10-21']\n",
            " ['2016-10-22']\n",
            " ['2016-10-23']\n",
            " ['2016-10-24']\n",
            " ['2016-10-25']\n",
            " ['2016-10-26']\n",
            " ['2016-10-27']\n",
            " ['2016-10-28']\n",
            " ['2016-10-29']\n",
            " ['2016-10-30']\n",
            " ['2016-10-31']\n",
            " ['2016-11-01']\n",
            " ['2016-11-02']\n",
            " ['2016-11-03']\n",
            " ['2016-11-04']\n",
            " ['2016-11-05']\n",
            " ['2016-11-06']\n",
            " ['2016-11-07']\n",
            " ['2016-11-08']\n",
            " ['2016-11-09']\n",
            " ['2016-11-10']\n",
            " ['2016-11-11']\n",
            " ['2016-11-12']\n",
            " ['2016-11-13']\n",
            " ['2016-11-14']\n",
            " ['2016-11-15']\n",
            " ['2016-11-16']\n",
            " ['2016-11-17']\n",
            " ['2016-11-18']\n",
            " ['2016-11-19']\n",
            " ['2016-11-20']\n",
            " ['2016-11-21']\n",
            " ['2016-11-22']\n",
            " ['2016-11-23']\n",
            " ['2016-11-24']\n",
            " ['2016-11-25']\n",
            " ['2016-11-26']\n",
            " ['2016-11-27']\n",
            " ['2016-11-28']\n",
            " ['2016-11-29']\n",
            " ['2016-11-30']\n",
            " ['2016-12-01']\n",
            " ['2016-12-02']\n",
            " ['2016-12-03']\n",
            " ['2016-12-04']\n",
            " ['2016-12-05']\n",
            " ['2016-12-06']\n",
            " ['2016-12-07']\n",
            " ['2016-12-08']\n",
            " ['2016-12-09']\n",
            " ['2016-12-10']\n",
            " ['2016-12-11']\n",
            " ['2016-12-12']\n",
            " ['2016-12-13']\n",
            " ['2016-12-14']\n",
            " ['2016-12-15']\n",
            " ['2016-12-16']\n",
            " ['2016-12-17']\n",
            " ['2016-12-18']\n",
            " ['2016-12-19']\n",
            " ['2016-12-20']\n",
            " ['2016-12-21']\n",
            " ['2016-12-22']\n",
            " ['2016-12-23']\n",
            " ['2016-12-24']\n",
            " ['2016-12-25']\n",
            " ['2016-12-26']\n",
            " ['2016-12-27']\n",
            " ['2016-12-28']\n",
            " ['2016-12-29']\n",
            " ['2016-12-30']\n",
            " ['2016-12-31']]\n"
          ]
        }
      ]
    },
    {
      "cell_type": "code",
      "source": [
        "from matplotlib import pyplot as plt\n",
        "plt.plot(range(len(visualizacoes)), visualizacoes)"
      ],
      "metadata": {
        "colab": {
          "base_uri": "https://localhost:8080/",
          "height": 447
        },
        "id": "2tVGukA5EPv7",
        "outputId": "55378cd8-1bc6-40d5-d02e-984216844faa"
      },
      "execution_count": 7,
      "outputs": [
        {
          "output_type": "execute_result",
          "data": {
            "text/plain": [
              "[<matplotlib.lines.Line2D at 0x7f1bb7f7f950>]"
            ]
          },
          "metadata": {},
          "execution_count": 7
        },
        {
          "output_type": "display_data",
          "data": {
            "text/plain": [
              "<Figure size 640x480 with 1 Axes>"
            ],
            "image/png": "[encoded data removed]"
          },
          "metadata": {}
        }
      ]
    },
    {
      "cell_type": "code",
      "source": [
        "plt.plot(range(100), visualizacoes[:100])"
      ],
      "metadata": {
        "colab": {
          "base_uri": "https://localhost:8080/",
          "height": 450
        },
        "id": "UcLQAIpnEi17",
        "outputId": "fd7b2b17-6a5f-46e7-b679-d64aa628c072"
      },
      "execution_count": 8,
      "outputs": [
        {
          "output_type": "execute_result",
          "data": {
            "text/plain": [
              "[<matplotlib.lines.Line2D at 0x7f1bb5198a10>]"
            ]
          },
          "metadata": {},
          "execution_count": 8
        },
        {
          "output_type": "display_data",
          "data": {
            "text/plain": [
              "<Figure size 640x480 with 1 Axes>"
            ],
            "image/png": "[encoded data removed]"
          },
          "metadata": {}
        }
      ]
    },
    {
      "cell_type": "code",
      "source": [
        "# Separando os dados de treino, validação e testes\n",
        "\n",
        "num_train_samples = int(0.6 * len(raw_data))\n",
        "num_val_samples = int(0.2 * len(raw_data))\n",
        "num_test_samples = len(raw_data) - num_train_samples - num_val_samples\n",
        "print('num_train_samples:', num_train_samples)\n",
        "print('num_val_samples:', num_val_samples)\n",
        "print('num_test_samples:', num_test_samples)"
      ],
      "metadata": {
        "colab": {
          "base_uri": "https://localhost:8080/"
        },
        "id": "ifFF5anCFVM5",
        "outputId": "06e0b6ad-5a0f-4a25-a8eb-23d2074397e9"
      },
      "execution_count": 164,
      "outputs": [
        {
          "output_type": "stream",
          "name": "stdout",
          "text": [
            "num_train_samples: 330\n",
            "num_val_samples: 110\n",
            "num_test_samples: 110\n"
          ]
        }
      ]
    },
    {
      "cell_type": "code",
      "source": [
        "# Trabalhando com a conversão de dados do tipo data para timestamp\n",
        "\n",
        "if not pd.api.types.is_datetime64_any_dtype(df3['Date']):\n",
        "    df3['Date'] = pd.to_datetime(df3['Date'])\n",
        "\n",
        "raw_data = df3[['Date']].values.astype(np.int64) // 10**9  # Unix timestamps"
      ],
      "metadata": {
        "id": "WwA0Z_7Rb7px"
      },
      "execution_count": 165,
      "outputs": []
    },
    {
      "cell_type": "code",
      "source": [
        "# Calculate mean and standard deviation using the training data\n",
        "mean = raw_data[:num_train_samples].mean(axis=0, dtype=float)\n",
        "std = raw_data[:num_train_samples].std(axis=0)\n",
        "\n",
        "# Normalize the raw data\n",
        "raw_data = (raw_data - mean) / std"
      ],
      "metadata": {
        "id": "dlgnucZLFqWw"
      },
      "execution_count": 166,
      "outputs": []
    },
    {
      "cell_type": "code",
      "metadata": {
        "colab": {
          "base_uri": "https://localhost:8080/"
        },
        "id": "14ec2718",
        "outputId": "8599dedc-2d32-4340-86b3-b43d7968ca5d"
      },
      "source": [
        "print(visualizacoes.shape)\n",
        "print(raw_data.shape)\n",
        "print(std.shape)\n",
        "print(mean.shape)"
      ],
      "execution_count": 167,
      "outputs": [
        {
          "output_type": "stream",
          "name": "stdout",
          "text": [
            "(550,)\n",
            "(550, 1)\n",
            "(1,)\n",
            "(1,)\n"
          ]
        }
      ]
    },
    {
      "cell_type": "code",
      "source": [
        "print(std)"
      ],
      "metadata": {
        "colab": {
          "base_uri": "https://localhost:8080/"
        },
        "id": "R7YQ6RoKob-q",
        "outputId": "e77ef09b-943b-4cb0-cd9e-152afb0886c8"
      },
      "execution_count": 168,
      "outputs": [
        {
          "output_type": "stream",
          "name": "stdout",
          "text": [
            "[8230667.64728111]\n"
          ]
        }
      ]
    },
    {
      "cell_type": "code",
      "source": [
        "from tensorflow import keras"
      ],
      "metadata": {
        "id": "ozcb3tbSMcAm"
      },
      "execution_count": 169,
      "outputs": []
    },
    {
      "cell_type": "code",
      "source": [
        "sampling_rate = 1\n",
        "sequence_length = 30\n",
        "delay = sampling_rate * (sequence_length + 24 + 1)\n",
        "batch_size = 256\n",
        "train_dataset = keras.utils.timeseries_dataset_from_array(\n",
        "    raw_data[:-delay],\n",
        "    targets=visualizacoes[delay:],\n",
        "    sampling_rate=sampling_rate,\n",
        "    sequence_length=sequence_length,\n",
        "    shuffle=True,\n",
        "    batch_size=batch_size,\n",
        "    end_index=num_train_samples\n",
        ")\n",
        "val_dataset = keras.utils.timeseries_dataset_from_array(\n",
        "    raw_data[:-delay],\n",
        "    targets=visualizacoes[delay:],\n",
        "    sampling_rate=sampling_rate,\n",
        "    sequence_length=sequence_length,\n",
        "    shuffle=True,\n",
        "    batch_size=batch_size,\n",
        "    start_index=num_train_samples,\n",
        "    end_index=num_val_samples + num_train_samples\n",
        ")\n",
        "test_dataset = keras.utils.timeseries_dataset_from_array(\n",
        "    raw_data[:-delay],\n",
        "    targets=visualizacoes[delay:],\n",
        "    sampling_rate=sampling_rate,\n",
        "    sequence_length=sequence_length,\n",
        "    shuffle=True,\n",
        "    batch_size=batch_size,\n",
        "    start_index=num_val_samples + num_train_samples\n",
        ")\n",
        "#"
      ],
      "metadata": {
        "id": "nQRkmMn7MszM"
      },
      "execution_count": 170,
      "outputs": []
    },
    {
      "cell_type": "code",
      "source": [
        "for samples, targets in train_dataset:\n",
        "  print(\"samples shape:\", samples.shape)\n",
        "  print(\"targets shape:\", targets.shape)\n",
        "  break"
      ],
      "metadata": {
        "colab": {
          "base_uri": "https://localhost:8080/"
        },
        "id": "hRibPNS1eB00",
        "outputId": "4ec1bac1-7a82-4c96-d2f4-2ce212e18dda"
      },
      "execution_count": 172,
      "outputs": [
        {
          "output_type": "stream",
          "name": "stdout",
          "text": [
            "samples shape: (256, 30, 1)\n",
            "targets shape: (256,)\n"
          ]
        }
      ]
    },
    {
      "cell_type": "markdown",
      "source": [
        "## Baseline"
      ],
      "metadata": {
        "id": "q2DKlfmteI8b"
      }
    },
    {
      "cell_type": "code",
      "source": [
        "for samples, targets in val_dataset:\n",
        "  print(\"samples shape:\", samples.shape)\n",
        "  print(\"targets shape:\", targets.shape)\n",
        "  break"
      ],
      "metadata": {
        "colab": {
          "base_uri": "https://localhost:8080/"
        },
        "id": "sdCLVXiAhokV",
        "outputId": "b43a1c80-3274-43ac-cdfe-eb32955b1d54"
      },
      "execution_count": 173,
      "outputs": [
        {
          "output_type": "stream",
          "name": "stdout",
          "text": [
            "samples shape: (81, 30, 1)\n",
            "targets shape: (81,)\n"
          ]
        }
      ]
    },
    {
      "cell_type": "code",
      "source": [
        "print(samples[1, 1])\n",
        "print(std)"
      ],
      "metadata": {
        "colab": {
          "base_uri": "https://localhost:8080/"
        },
        "id": "Zv_mlyiPmqEv",
        "outputId": "98dc792d-e7a2-46d8-c764-c901cf191c2f"
      },
      "execution_count": 174,
      "outputs": [
        {
          "output_type": "stream",
          "name": "stdout",
          "text": [
            "tf.Tensor([1.93675661], shape=(1,), dtype=float64)\n",
            "[8230667.64728111]\n"
          ]
        }
      ]
    },
    {
      "cell_type": "code",
      "source": [
        "def evaluate_naive_method(dataset):\n",
        "  total_abs_err = 0\n",
        "  samples_seen = 1\n",
        "  for samples, targets in dataset:\n",
        "    preds = samples[:, 1] * std + mean\n",
        "    total_abs_err += np.sum(np.abs(preds - targets))\n",
        "    samples_seen += samples.shape[0]\n",
        "    print(samples_seen)\n",
        "  return total_abs_err / samples_seen\n",
        "print(\"Validation MAE (naive method):\", evaluate_naive_method(val_dataset))\n",
        "print(\"Test MAE (naive method):\", evaluate_naive_method(test_dataset))\n",
        ""
      ],
      "metadata": {
        "colab": {
          "base_uri": "https://localhost:8080/"
        },
        "id": "c43txgxFeIVA",
        "outputId": "52d6b8e9-0ae3-4302-ae9b-a543e10e3078"
      },
      "execution_count": 175,
      "outputs": [
        {
          "output_type": "stream",
          "name": "stdout",
          "text": [
            "82\n",
            "Validation MAE (naive method): 117438952626.05269\n",
            "27\n",
            "Test MAE (naive method): 36926905031.81333\n"
          ]
        }
      ]
    },
    {
      "cell_type": "code",
      "source": [
        "from tensorflow import keras\n",
        "from keras import layers\n",
        "\n",
        "inputs = keras.Input(shape=(sequence_length, raw_data.shape[-1]))\n",
        "# Use Reshape instead of Flatten\n",
        "x = layers.Reshape((-1, sequence_length * raw_data.shape[-1]))(inputs)\n",
        "x = layers.Dense(16, activation='relu')(x)\n",
        "outputs = layers.Dense(1)(x)\n",
        "model = keras.Model(inputs, outputs)\n",
        "\n",
        "callbacks = [\n",
        "    keras.callbacks.ModelCheckpoint(\"model.keras\",\n",
        "                                    save_best_only=True)\n",
        "]\n",
        "\n",
        "model.compile(optimizer='rmsprop', loss='mse', metrics=['mae'])\n",
        "history = model.fit(train_dataset,\n",
        "                    epochs=20,\n",
        "                    validation_data=val_dataset,\n",
        "                    callbacks=callbacks)\n",
        "\n",
        "model = keras.models.load_model(\"model.keras\")\n",
        "print(f\"Test MAE: {model.evaluate(test_dataset)[1]:.2f}\")"
      ],
      "metadata": {
        "colab": {
          "base_uri": "https://localhost:8080/"
        },
        "id": "N-N3GkcwmeE6",
        "outputId": "3f0d6d50-bd0b-4628-ea87-620d3f420e5d"
      },
      "execution_count": 178,
      "outputs": [
        {
          "output_type": "stream",
          "name": "stdout",
          "text": [
            "Epoch 1/20\n",
            "\u001b[1m2/2\u001b[0m \u001b[32m━━━━━━━━━━━━━━━━━━━━\u001b[0m\u001b[37m\u001b[0m \u001b[1m1s\u001b[0m 423ms/step - loss: 330.0708 - mae: 18.0782 - val_loss: 1686.1602 - val_mae: 37.6129\n",
            "Epoch 2/20\n",
            "\u001b[1m2/2\u001b[0m \u001b[32m━━━━━━━━━━━━━━━━━━━━\u001b[0m\u001b[37m\u001b[0m \u001b[1m0s\u001b[0m 216ms/step - loss: 319.8495 - mae: 17.7850 - val_loss: 1659.6788 - val_mae: 37.2593\n",
            "Epoch 3/20\n",
            "\u001b[1m2/2\u001b[0m \u001b[32m━━━━━━━━━━━━━━━━━━━━\u001b[0m\u001b[37m\u001b[0m \u001b[1m0s\u001b[0m 199ms/step - loss: 313.9285 - mae: 17.6110 - val_loss: 1639.3191 - val_mae: 36.9851\n",
            "Epoch 4/20\n",
            "\u001b[1m2/2\u001b[0m \u001b[32m━━━━━━━━━━━━━━━━━━━━\u001b[0m\u001b[37m\u001b[0m \u001b[1m1s\u001b[0m 204ms/step - loss: 308.8980 - mae: 17.4608 - val_loss: 1628.1404 - val_mae: 36.8337\n",
            "Epoch 5/20\n",
            "\u001b[1m2/2\u001b[0m \u001b[32m━━━━━━━━━━━━━━━━━━━━\u001b[0m\u001b[37m\u001b[0m \u001b[1m1s\u001b[0m 208ms/step - loss: 303.8277 - mae: 17.3051 - val_loss: 1618.8577 - val_mae: 36.7075\n",
            "Epoch 6/20\n",
            "\u001b[1m2/2\u001b[0m \u001b[32m━━━━━━━━━━━━━━━━━━━━\u001b[0m\u001b[37m\u001b[0m \u001b[1m1s\u001b[0m 166ms/step - loss: 301.2755 - mae: 17.2249 - val_loss: 1610.5549 - val_mae: 36.5942\n",
            "Epoch 7/20\n",
            "\u001b[1m2/2\u001b[0m \u001b[32m━━━━━━━━━━━━━━━━━━━━\u001b[0m\u001b[37m\u001b[0m \u001b[1m0s\u001b[0m 190ms/step - loss: 298.2589 - mae: 17.1290 - val_loss: 1601.4460 - val_mae: 36.4696\n",
            "Epoch 8/20\n",
            "\u001b[1m2/2\u001b[0m \u001b[32m━━━━━━━━━━━━━━━━━━━━\u001b[0m\u001b[37m\u001b[0m \u001b[1m0s\u001b[0m 94ms/step - loss: 295.8758 - mae: 17.0526 - val_loss: 1594.5906 - val_mae: 36.3754\n",
            "Epoch 9/20\n",
            "\u001b[1m2/2\u001b[0m \u001b[32m━━━━━━━━━━━━━━━━━━━━\u001b[0m\u001b[37m\u001b[0m \u001b[1m0s\u001b[0m 100ms/step - loss: 292.8263 - mae: 16.9525 - val_loss: 1586.8466 - val_mae: 36.2688\n",
            "Epoch 10/20\n",
            "\u001b[1m2/2\u001b[0m \u001b[32m━━━━━━━━━━━━━━━━━━━━\u001b[0m\u001b[37m\u001b[0m \u001b[1m0s\u001b[0m 185ms/step - loss: 288.4415 - mae: 16.8164 - val_loss: 1578.0104 - val_mae: 36.1468\n",
            "Epoch 11/20\n",
            "\u001b[1m2/2\u001b[0m \u001b[32m━━━━━━━━━━━━━━━━━━━━\u001b[0m\u001b[37m\u001b[0m \u001b[1m0s\u001b[0m 80ms/step - loss: 287.0717 - mae: 16.7680 - val_loss: 1569.9934 - val_mae: 36.0357\n",
            "Epoch 12/20\n",
            "\u001b[1m2/2\u001b[0m \u001b[32m━━━━━━━━━━━━━━━━━━━━\u001b[0m\u001b[37m\u001b[0m \u001b[1m0s\u001b[0m 83ms/step - loss: 284.9312 - mae: 16.6958 - val_loss: 1563.4540 - val_mae: 35.9448\n",
            "Epoch 13/20\n",
            "\u001b[1m2/2\u001b[0m \u001b[32m━━━━━━━━━━━━━━━━━━━━\u001b[0m\u001b[37m\u001b[0m \u001b[1m0s\u001b[0m 77ms/step - loss: 280.5421 - mae: 16.5535 - val_loss: 1555.8058 - val_mae: 35.8383\n",
            "Epoch 14/20\n",
            "\u001b[1m2/2\u001b[0m \u001b[32m━━━━━━━━━━━━━━━━━━━━\u001b[0m\u001b[37m\u001b[0m \u001b[1m0s\u001b[0m 81ms/step - loss: 280.1290 - mae: 16.5362 - val_loss: 1548.7684 - val_mae: 35.7399\n",
            "Epoch 15/20\n",
            "\u001b[1m2/2\u001b[0m \u001b[32m━━━━━━━━━━━━━━━━━━━━\u001b[0m\u001b[37m\u001b[0m \u001b[1m0s\u001b[0m 84ms/step - loss: 276.4612 - mae: 16.4125 - val_loss: 1541.4598 - val_mae: 35.6375\n",
            "Epoch 16/20\n",
            "\u001b[1m2/2\u001b[0m \u001b[32m━━━━━━━━━━━━━━━━━━━━\u001b[0m\u001b[37m\u001b[0m \u001b[1m0s\u001b[0m 73ms/step - loss: 273.5810 - mae: 16.3154 - val_loss: 1534.2245 - val_mae: 35.5358\n",
            "Epoch 17/20\n",
            "\u001b[1m2/2\u001b[0m \u001b[32m━━━━━━━━━━━━━━━━━━━━\u001b[0m\u001b[37m\u001b[0m \u001b[1m0s\u001b[0m 77ms/step - loss: 271.0810 - mae: 16.2283 - val_loss: 1527.0466 - val_mae: 35.4346\n",
            "Epoch 18/20\n",
            "\u001b[1m2/2\u001b[0m \u001b[32m━━━━━━━━━━━━━━━━━━━━\u001b[0m\u001b[37m\u001b[0m \u001b[1m0s\u001b[0m 84ms/step - loss: 269.2398 - mae: 16.1620 - val_loss: 1520.4871 - val_mae: 35.3419\n",
            "Epoch 19/20\n",
            "\u001b[1m2/2\u001b[0m \u001b[32m━━━━━━━━━━━━━━━━━━━━\u001b[0m\u001b[37m\u001b[0m \u001b[1m0s\u001b[0m 75ms/step - loss: 266.6246 - mae: 16.0736 - val_loss: 1516.1602 - val_mae: 35.2806\n",
            "Epoch 20/20\n",
            "\u001b[1m2/2\u001b[0m \u001b[32m━━━━━━━━━━━━━━━━━━━━\u001b[0m\u001b[37m\u001b[0m \u001b[1m0s\u001b[0m 79ms/step - loss: 264.2658 - mae: 15.9872 - val_loss: 1511.3204 - val_mae: 35.2120\n",
            "\u001b[1m1/1\u001b[0m \u001b[32m━━━━━━━━━━━━━━━━━━━━\u001b[0m\u001b[37m\u001b[0m \u001b[1m0s\u001b[0m 357ms/step - loss: 436.8410 - mae: 20.8247\n",
            "Test MAE: 20.82\n"
          ]
        }
      ]
    },
    {
      "cell_type": "code",
      "source": [
        "import matplotlib.pyplot as plt\n",
        "loss = history.history['mae']\n",
        "val_loss = history.history['val_mae']\n",
        "epochs = range(1, len(loss) + 1)\n",
        "plt.figure\n",
        "plt.plot(epochs, loss, 'bo', label='Training MAE')\n",
        "plt.plot(epochs, val_loss, 'b', label='Validation MAE')\n",
        "plt.title('Training and validation MAE')\n",
        "plt.legend()\n",
        "plt.show()"
      ],
      "metadata": {
        "colab": {
          "base_uri": "https://localhost:8080/",
          "height": 452
        },
        "id": "naMS_sdFpKDp",
        "outputId": "6506a488-4593-4d9d-f629-c4c87826d69e"
      },
      "execution_count": 179,
      "outputs": [
        {
          "output_type": "display_data",
          "data": {
            "text/plain": [
              "<Figure size 640x480 with 1 Axes>"
            ],
            "image/png": "[encoded data removed]"
          },
          "metadata": {}
        }
      ]
    }
  ]
}